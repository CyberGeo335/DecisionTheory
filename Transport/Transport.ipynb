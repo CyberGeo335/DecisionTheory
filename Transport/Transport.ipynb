{
 "cells": [
  {
   "cell_type": "markdown",
   "source": [
    "# Транспортная Задача\n",
    "## Вариант № 10"
   ],
   "metadata": {
    "collapsed": false
   }
  },
  {
   "cell_type": "code",
   "execution_count": 1,
   "outputs": [],
   "source": [
    "import numpy as np\n",
    "from scipy.optimize import linprog\n",
    "import warnings"
   ],
   "metadata": {
    "collapsed": false
   }
  },
  {
   "cell_type": "markdown",
   "source": [
    "Метод северо-запада"
   ],
   "metadata": {
    "collapsed": false
   }
  },
  {
   "cell_type": "code",
   "execution_count": 2,
   "outputs": [],
   "source": [
    "def sev_zap(a_, b_, c_):\n",
    "    a = np.copy(a_)\n",
    "    b = np.copy(b_)\n",
    "    c = np.copy(c_)\n",
    "\n",
    "    if a.sum() > b.sum():\n",
    "        b = np.hstack((b, [a.sum() - b.sum()]))\n",
    "        c = np.hstack((c, np.zeros(len(a)).reshape(-1, 1)))\n",
    "    elif a.sum() < b.sum():\n",
    "        a = np.hstack((a, [b.sum() - a.sum()]))\n",
    "        c = np.vstack((c, np.zeros(len(b))))\n",
    "\n",
    "    m = len(a)\n",
    "    n = len(b)\n",
    "    i = 0\n",
    "    j = 0\n",
    "    funk = 0\n",
    "    x = np.zeros((m, n), dtype=int)\n",
    "\n",
    "    while (i < m) and (j < n):\n",
    "        x_ij = min(a[i], b[j])\n",
    "        funk += c[i, j] * min(a[i], b[j])\n",
    "        a[i] -= x_ij\n",
    "        b[j] -= x_ij\n",
    "        x[i, j] = x_ij\n",
    "\n",
    "        if a[i] > b[j]:\n",
    "            j += 1\n",
    "        elif a[i] < b[j]:\n",
    "            i += 1\n",
    "        else:\n",
    "            i += 1\n",
    "            j += 1\n",
    "\n",
    "    return x, funk\n"
   ],
   "metadata": {
    "collapsed": false
   }
  },
  {
   "cell_type": "code",
   "execution_count": 3,
   "metadata": {
    "collapsed": true
   },
   "outputs": [],
   "source": [
    "def find_coordinates(c_min):\n",
    "    c = np.inf\n",
    "\n",
    "    for i in range(c_min.shape[0]):\n",
    "        for j in range(c_min.shape[1]):\n",
    "            if (c_min[i, j] != 0) and (c_min[i, j] < c):\n",
    "                c = c_min[i, j]\n",
    "                i_, j_ = i, j\n",
    "\n",
    "    return i_, j_\n",
    "\n",
    "\n",
    "def min_elem(a_, b_, c_):\n",
    "    a = np.copy(a_)\n",
    "    b = np.copy(list(reversed(b_)))\n",
    "    c = np.copy(c_)\n",
    "\n",
    "    if a.sum() > b.sum():\n",
    "        b = np.hstack((b, [a.sum() - b.sum()]))\n",
    "        c = np.hstack((c, np.zeros(len(a)).reshape(-1, 1)))\n",
    "    elif a.sum() < b.sum():\n",
    "        a = np.hstack((a, [b.sum() - a.sum()]))\n",
    "        c = np.vstack((c, np.zeros(len(b))))\n",
    "\n",
    "    m = len(a)\n",
    "    n = len(b)\n",
    "    x = np.zeros((m, n), dtype=int)\n",
    "    funk = 0\n",
    "\n",
    "    while 1:\n",
    "        c_min = np.zeros((m, n))\n",
    "\n",
    "        for i in range(m):\n",
    "            for j in range(n):\n",
    "                c_min[i, j] = (c[i, j] * min(a[i], b[j]))\n",
    "\n",
    "        i, j = find_coordinates(c_min)\n",
    "        x_ij = int(min(a[i], b[j]))\n",
    "        x[i, j] = x_ij\n",
    "        funk += int(c_min[i, j])\n",
    "        a[i] -= x_ij\n",
    "        b[j] -= x_ij\n",
    "\n",
    "        if len(c_min[c_min > 0]) == 1:\n",
    "            break\n",
    "\n",
    "    return x, funk\n",
    "\n",
    "\n",
    "def prepare(a, b):\n",
    "    m = len(a)\n",
    "    n = len(b)\n",
    "    h = np.diag(np.ones(n))\n",
    "    v = np.zeros((m, n))\n",
    "    v[0] = 1\n",
    "\n",
    "    for i in range(1, m):\n",
    "        h = np.hstack((h, np.diag(np.ones(n))))\n",
    "        k = np.zeros((m, n))\n",
    "        k[i] = 1\n",
    "        v = np.hstack((v, k))\n",
    "\n",
    "    return np.vstack((h, v)).astype(int), np.hstack((b, a))\n",
    "\n",
    "\n",
    "def potenz(a_, b_, c_):\n",
    "    a = np.copy(a_)\n",
    "    b = np.copy(b_)\n",
    "    c = np.copy(c_)\n",
    "\n",
    "    if a.sum() > b.sum():\n",
    "        b = np.hstack((b, [a.sum() - b.sum()]))\n",
    "        c = np.hstack((c, np.zeros(len(a)).reshape(-1, 1)))\n",
    "    elif a.sum() < b.sum():\n",
    "        a = np.hstack((a, [b.sum() - a.sum()]))\n",
    "        c = np.vstack((c, np.zeros(len(b))))\n",
    "\n",
    "    m = len(a)\n",
    "    n = len(b)\n",
    "    A_eq, b_eq = prepare(a, b)\n",
    "    res = linprog(c.reshape(1, -1), A_eq=A_eq, b_eq=b_eq, bounds=(0, None), method='simplex')\n",
    "\n",
    "    return res.x.astype(int).reshape(m, n), res.fun.astype(int)\n"
   ]
  },
  {
   "cell_type": "code",
   "execution_count": 4,
   "outputs": [
    {
     "name": "stdout",
     "output_type": "stream",
     "text": [
      "\n",
      "#########################################################################\n",
      "\n",
      "Метод Cеверо-Pападного угла: \n",
      " [[11  4  0  0  0]\n",
      " [ 0  7  3  0  0]\n",
      " [ 0  0  8 16 11]]\n",
      "\n",
      "Целевая функция: \n",
      ">  618\n",
      "\n",
      "#########################################################################\n",
      "\n",
      "Метод минимального элемента: \n",
      " [[ 9  6  0  0  0]\n",
      " [ 0 10  0  0  0]\n",
      " [ 2  0 11 11 11]]\n",
      "\n",
      "Целевая функция: \n",
      ">  518\n",
      "\n",
      "#########################################################################\n",
      "\n",
      "Метод потенциалов: \n",
      " [[11  4  0  0  0]\n",
      " [ 0  7  0  3  0]\n",
      " [ 0  0 11 13 11]]\n",
      "\n",
      "Целевая функция: \n",
      ">  516\n",
      "\n",
      "#########################################################################\n",
      "\n"
     ]
    }
   ],
   "source": [
    "if __name__ == '__main__':\n",
    "    warnings.filterwarnings('ignore')\n",
    "\n",
    "    a = np.array([15, 10, 35]) # Запас\n",
    "\n",
    "    b = np.array([11, 11, 11, 16, 11]) # Потребности\n",
    "\n",
    "    D = np.array([[3, 4, 5, 15, 24],\n",
    "                  [19, 2, 22, 4, 13],\n",
    "                  [20, 27, 1, 17, 19]])\n",
    "\n",
    "    x, funk = sev_zap(a, b, D)\n",
    "    print(\"\\n#########################################################################\\n\")\n",
    "    print('Метод Cеверо-Pападного угла: \\n', x)\n",
    "    print('\\nЦелевая функция: \\n> ', funk)\n",
    "    print(\"\\n#########################################################################\\n\")\n",
    "\n",
    "    x1, funk1 = min_elem(a, b, D)\n",
    "    print('Метод минимального элемента: \\n', x1)\n",
    "    print('\\nЦелевая функция: \\n> ', funk1)\n",
    "    print(\"\\n#########################################################################\\n\")\n",
    "\n",
    "    x2, funk2 = potenz(a, b, D)\n",
    "    print('Метод потенциалов: \\n', x2)\n",
    "    print('\\nЦелевая функция: \\n> ', funk2)\n",
    "    print(\"\\n#########################################################################\\n\")\n",
    "\n"
   ],
   "metadata": {
    "collapsed": false
   }
  }
 ],
 "metadata": {
  "kernelspec": {
   "display_name": "Python 3",
   "language": "python",
   "name": "python3"
  },
  "language_info": {
   "codemirror_mode": {
    "name": "ipython",
    "version": 2
   },
   "file_extension": ".py",
   "mimetype": "text/x-python",
   "name": "python",
   "nbconvert_exporter": "python",
   "pygments_lexer": "ipython2",
   "version": "2.7.6"
  }
 },
 "nbformat": 4,
 "nbformat_minor": 0
}
