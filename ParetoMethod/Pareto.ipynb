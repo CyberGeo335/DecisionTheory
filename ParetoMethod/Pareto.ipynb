{
 "cells": [
  {
   "cell_type": "markdown",
   "source": [
    "# Практическая № 1\n",
    "\n",
    "План:\n",
    "1) Отношение Парето-Доминирования\n",
    "2) Метод указания верхних/нижних границ критериев\n",
    "3) Метод субоптимизации\n",
    "4) Метод лексикографической оптимизации"
   ],
   "metadata": {
    "collapsed": false
   }
  },
  {
   "cell_type": "markdown",
   "source": [
    "# Отношение Парето-Доминирования"
   ],
   "metadata": {
    "collapsed": false
   }
  },
  {
   "cell_type": "markdown",
   "source": [
    "Примечание:\n",
    "Знаком (-) указывается отрицательное стремление критерия (чем меньше, тем лучше)\n",
    "знаком (+) – положительное (чем больше, тем лучше)\n",
    "\n",
    "alternative[i][2] <= alternative[j][2] - чем меньше, тем лучше\n",
    "alternative[i][3] <= alternative[j][3] - чем меньше, тем лучше\n",
    "alternative[i][4] <= alternative[j][4] - чем больше, тем лучше\n",
    "alternative[i][5] <= alternative[j][5] - чем больше, тем лучше"
   ],
   "metadata": {
    "collapsed": false
   }
  },
  {
   "cell_type": "code",
   "execution_count": 2,
   "outputs": [],
   "source": [
    "import pandas as pd"
   ],
   "metadata": {
    "collapsed": false
   }
  },
  {
   "cell_type": "code",
   "execution_count": 3,
   "metadata": {
    "collapsed": true
   },
   "outputs": [
    {
     "data": {
      "text/plain": "  Название музыкальных групп  Релиз последнего альбома от нашего года (-)  \\\n0                Linkin Park                                            6   \n1                 Papa Roach                                            4   \n2                      AC/DC                                            3   \n3                  Disturbed                                            5   \n4            Imagine Dragons                                            5   \n5           Hollywood Undead                                            1   \n6               Король и Шут                                           11   \n7                    Skillet                                            1   \n8                    Nirvana                                           32   \n\n   частота выхода альбомов (-)  Количество прослушиваний за месяц (+)  \\\n0                         2.80                                2010488   \n1                         2.30                                 720816   \n2                         3.10                                 385686   \n3                         3.10                                 264406   \n4                         2.25                                2956234   \n5                         2.28                                 399418   \n6                         1.50                                3118323   \n7                         2.60                                 919246   \n8                         1.90                                1262902   \n\n   Количество наград (+)  \n0                     48  \n1                     26  \n2                     18  \n3                      7  \n4                     49  \n5                      3  \n6                     12  \n7                      0  \n8                     17  ",
      "text/html": "<div>\n<style scoped>\n    .dataframe tbody tr th:only-of-type {\n        vertical-align: middle;\n    }\n\n    .dataframe tbody tr th {\n        vertical-align: top;\n    }\n\n    .dataframe thead th {\n        text-align: right;\n    }\n</style>\n<table border=\"1\" class=\"dataframe\">\n  <thead>\n    <tr style=\"text-align: right;\">\n      <th></th>\n      <th>Название музыкальных групп</th>\n      <th>Релиз последнего альбома от нашего года (-)</th>\n      <th>частота выхода альбомов (-)</th>\n      <th>Количество прослушиваний за месяц (+)</th>\n      <th>Количество наград (+)</th>\n    </tr>\n  </thead>\n  <tbody>\n    <tr>\n      <th>0</th>\n      <td>Linkin Park</td>\n      <td>6</td>\n      <td>2.80</td>\n      <td>2010488</td>\n      <td>48</td>\n    </tr>\n    <tr>\n      <th>1</th>\n      <td>Papa Roach</td>\n      <td>4</td>\n      <td>2.30</td>\n      <td>720816</td>\n      <td>26</td>\n    </tr>\n    <tr>\n      <th>2</th>\n      <td>AC/DC</td>\n      <td>3</td>\n      <td>3.10</td>\n      <td>385686</td>\n      <td>18</td>\n    </tr>\n    <tr>\n      <th>3</th>\n      <td>Disturbed</td>\n      <td>5</td>\n      <td>3.10</td>\n      <td>264406</td>\n      <td>7</td>\n    </tr>\n    <tr>\n      <th>4</th>\n      <td>Imagine Dragons</td>\n      <td>5</td>\n      <td>2.25</td>\n      <td>2956234</td>\n      <td>49</td>\n    </tr>\n    <tr>\n      <th>5</th>\n      <td>Hollywood Undead</td>\n      <td>1</td>\n      <td>2.28</td>\n      <td>399418</td>\n      <td>3</td>\n    </tr>\n    <tr>\n      <th>6</th>\n      <td>Король и Шут</td>\n      <td>11</td>\n      <td>1.50</td>\n      <td>3118323</td>\n      <td>12</td>\n    </tr>\n    <tr>\n      <th>7</th>\n      <td>Skillet</td>\n      <td>1</td>\n      <td>2.60</td>\n      <td>919246</td>\n      <td>0</td>\n    </tr>\n    <tr>\n      <th>8</th>\n      <td>Nirvana</td>\n      <td>32</td>\n      <td>1.90</td>\n      <td>1262902</td>\n      <td>17</td>\n    </tr>\n  </tbody>\n</table>\n</div>"
     },
     "execution_count": 3,
     "metadata": {},
     "output_type": "execute_result"
    }
   ],
   "source": [
    "\n",
    "url = \"D:/MY_PROJECTS/dsProject/TPR/ParetoDataSet.xlsx\"\n",
    "\n",
    "dataframe_xlsx = pd.read_excel(url)\n",
    "\n",
    "url_csv = dataframe_xlsx.to_csv(\"DataSetParetoCSV.csv\", index = None, header = True)\n",
    "\n",
    "dataframe = pd.DataFrame(pd.read_csv(\"DataSetParetoCSV.csv\"))\n",
    "\n",
    "dataframe"
   ]
  },
  {
   "cell_type": "code",
   "execution_count": 4,
   "outputs": [
    {
     "data": {
      "text/plain": "{(2, 'Papa Roach', 4, 2.3, 720816, 26),\n (3, 'AC/DC', 3, 3.1, 385686, 18),\n (5, 'Imagine Dragons', 5, 2.25, 2956234, 49)}"
     },
     "execution_count": 4,
     "metadata": {},
     "output_type": "execute_result"
    }
   ],
   "source": [
    "alternative = dataframe.values.tolist()\n",
    "\n",
    "for i in range (len(alternative)):\n",
    "    alternative[i].insert(0, i + 1)\n",
    "\n",
    "\n",
    "# [строка][столбец]\n",
    "def ParetoMethod(alternative):\n",
    "    result = set()\n",
    "    for i in range(len(alternative)):\n",
    "        for j in range(len(alternative)):\n",
    "            if i == j:\n",
    "                continue\n",
    "            if (alternative[i][2] <= alternative[j][2]) \\\n",
    "                    and (alternative[i][3] <= alternative[j][3]) \\\n",
    "                    and (alternative[i][4] >= alternative[j][4]) \\\n",
    "                    and (alternative[i][5] >= alternative[j][5]):\n",
    "                result.add(tuple(alternative[i]))\n",
    "    return result\n",
    "\n",
    "ParetoMethod(alternative)"
   ],
   "metadata": {
    "collapsed": false
   }
  },
  {
   "cell_type": "markdown",
   "source": [
    "# Метод указания верхних/нижних границ критериев"
   ],
   "metadata": {
    "collapsed": false
   }
  },
  {
   "cell_type": "code",
   "execution_count": 6,
   "outputs": [
    {
     "name": "stdout",
     "output_type": "stream",
     "text": [
      "{(5, 'Imagine Dragons', 5, 2.25, 2956234, 49), (1, 'Linkin Park', 6, 2.8, 2010488, 48), (2, 'Papa Roach', 4, 2.3, 720816, 26)}\n"
     ]
    }
   ],
   "source": [
    "def Borders():\n",
    "\n",
    "    Upper = int(input(\"Выберите верхнюю границу: 2 - релиз, 3 - частота, 4 - прослушивания, 5 - награды\"))\n",
    "\n",
    "    Lower = int(input(\"Выберите нижнюю границу: 2 - релиз, 3 - частота, 4 - прослушивания, 5 - награды\"))\n",
    "\n",
    "    UpperWeight = int(input(\"Введите верхнию границу\"))\n",
    "\n",
    "    LowerWeight = int(input(\"Введите нижнюю границу\"))\n",
    "\n",
    "    Result = set()\n",
    "\n",
    "    for i in alternative:\n",
    "        if i[Upper] <= UpperWeight and i[Lower] >= LowerWeight:\n",
    "            Result.add(tuple(i))\n",
    "\n",
    "    print(Result)\n",
    "\n",
    "    #ResultByPoreto = (ParetoMethod(alternative))\n",
    "    #print(ResultByPoreto)\n",
    "# 2 5\n",
    "# 6 20\n",
    "\n",
    "Borders()"
   ],
   "metadata": {
    "collapsed": false
   }
  },
  {
   "cell_type": "markdown",
   "source": [
    "# Метод субоптимизации"
   ],
   "metadata": {
    "collapsed": false
   }
  },
  {
   "cell_type": "code",
   "execution_count": 18,
   "outputs": [
    {
     "name": "stdout",
     "output_type": "stream",
     "text": [
      "Selection:  [[1, 'Linkin Park', 6, 2.8, 2010488, 48], [2, 'Papa Roach', 4, 2.3, 720816, 26], [5, 'Imagine Dragons', 5, 2.25, 2956234, 49]]\n",
      "[5, 'Imagine Dragons', 5, 2.25, 2956234, 49]\n"
     ]
    }
   ],
   "source": [
    "def Suboptimization():\n",
    "\n",
    "    MainKrit = int(input(\"Выберите главный критерий: 2 - релиз, 3 - частота, 4 - прослушивания, 5 - награды\")) # 4\n",
    "\n",
    "    FirstMinor = int(input(\"Выберите остальные критерии: 2 - релиз, 3 - частота, 4 - прослушивания, 5 - награды\")) # 2\n",
    "\n",
    "    FirstMinorWeight = int(input(\"Введите нижнюю границу критерия:\")) # 10\n",
    "\n",
    "    SecondMinor = int(input(\"Выберите остальные критерии: 2 - релиз, 3 - частота, 4 - прослушивания, 5 - награды\")) # 3\n",
    "\n",
    "    SecondMinorWeight = float(input(\"Введите нижнюю границу критерия:\")) # 3\n",
    "\n",
    "    ThirdMinor = int(input(\"Выберите остальные критерии: 2 - релиз, 3 - частота, 4 - прослушивания, 5 - награды\")) # 5\n",
    "\n",
    "    ThirdMinorWeight = int(input(\"Введите нижнюю границу критерия:\")) # 10\n",
    "\n",
    "    Selection = []\n",
    "\n",
    "    for i in alternative:\n",
    "        if i[FirstMinor] < FirstMinorWeight and i[SecondMinor] < SecondMinorWeight and i[ThirdMinor] > ThirdMinorWeight:\n",
    "            Selection.append(i)\n",
    "\n",
    "    print(\"Selection: \", Selection)\n",
    "\n",
    "    for i in range (len(Selection)):\n",
    "        Maxval = 0\n",
    "        if Selection[i][MainKrit] > Maxval:\n",
    "            Maxval = Selection[i][MainKrit]\n",
    "            Result = Selection[i]\n",
    "\n",
    "    print(Result)\n",
    "\n",
    "Suboptimization()\n",
    "# 4\n",
    "# 2 - 10\n",
    "# 3 - 3\n",
    "# 5 -20"
   ],
   "metadata": {
    "collapsed": false
   }
  },
  {
   "cell_type": "markdown",
   "source": [
    "# Метод лексикографической оптимизации"
   ],
   "metadata": {
    "collapsed": false
   }
  },
  {
   "cell_type": "code",
   "execution_count": 11,
   "outputs": [
    {
     "name": "stdout",
     "output_type": "stream",
     "text": [
      "Main Criterion:  \n",
      " [[1, 'Linkin Park', 6, 2.8, 2010488, 48], [2, 'Papa Roach', 4, 2.3, 720816, 26], [3, 'AC/DC', 3, 3.1, 385686, 18], [4, 'Disturbed', 5, 3.1, 264406, 7], [5, 'Imagine Dragons', 5, 2.25, 2956234, 49], [6, 'Hollywood Undead', 1, 2.28, 399418, 3], [7, 'Король и Шут', 11, 1.5, 3118323, 12], [8, 'Skillet', 1, 2.6, 919246, 0], [9, 'Nirvana', 32, 1.9, 1262902, 17]]\n",
      "Minor Criterion: \n",
      " [[7, 'Король и Шут', 11, 1.5, 3118323, 12]]\n"
     ]
    }
   ],
   "source": [
    "#лексико оптимизация\n",
    "nov1 = []\n",
    "nov2 = []\n",
    "def lexoptimization():\n",
    "    q = int(input(\"Выберите главный критерий: 2 - релиз, 3 - частота, 4 - прослушивания, 5 - награды\")) # 4\n",
    "    krit1 = int(input(\"Введите верхнюю границу главного критерия :\")) # 2 mln\n",
    "\n",
    "    for j in alternative:\n",
    "        if j[q] >= krit1:\n",
    "            nov1.append(j)\n",
    "\n",
    "    print(\"Main Criterion: \", \"\\n\", nov1)\n",
    "\n",
    "    if len(nov1) == 1:\n",
    "        exit(0)\n",
    "    else:\n",
    "        q = int(input(\"Выберите побочный критерий: 2 - релиз, 3 - частота, 4 - прослушивания, 5 - награды\")) # 3\n",
    "        krit1 = float(input(\"Введите верхнюю границу главного критерия :\")) # 1.9\n",
    "        for j in nov1:\n",
    "            if j[q] < krit1:\n",
    "                nov2.append(j)\n",
    "    print(\"Minor Criterion:\", \"\\n\", nov2)\n",
    "\n",
    "lexoptimization()"
   ],
   "metadata": {
    "collapsed": false
   }
  }
 ],
 "metadata": {
  "kernelspec": {
   "display_name": "Python 3",
   "language": "python",
   "name": "python3"
  },
  "language_info": {
   "codemirror_mode": {
    "name": "ipython",
    "version": 2
   },
   "file_extension": ".py",
   "mimetype": "text/x-python",
   "name": "python",
   "nbconvert_exporter": "python",
   "pygments_lexer": "ipython2",
   "version": "2.7.6"
  }
 },
 "nbformat": 4,
 "nbformat_minor": 0
}
