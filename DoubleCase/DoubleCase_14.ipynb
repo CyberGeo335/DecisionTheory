{
 "cells": [
  {
   "cell_type": "markdown",
   "source": [
    "# Двойственная Задача\n",
    "## Вариант № 14"
   ],
   "metadata": {
    "collapsed": false
   }
  },
  {
   "cell_type": "markdown",
   "source": [
    "1x1 + 1x2 <= 16\n",
    "0.5x1 + 1x2 <= 12\n",
    "0x1 + 1x2 <= 12\n",
    "0.8x1 + 1.5x2 <= 16\n",
    "\n",
    "Так как базисные переменные x1, x4, x5, x2 то матрица:\n",
    "a1 = 1 0.5 0 0.8\n",
    "a4 = 0 1 0 0\n",
    "a5 = 0 0 1 0\n",
    "a2 = 1 1 1 1.5\n",
    "\n",
    "ДЛЯ 14 ВАРИКА\n",
    "0.15x1 + 0.2x2 <= 60\n",
    "0.2x1 + 0.1x2 <= 40\n",
    "\n",
    "A2 A1\n",
    "\n",
    "a2 = 0.2 0.1\n",
    "a1 = 0.15 0.2\n"
   ],
   "metadata": {
    "collapsed": false
   }
  },
  {
   "cell_type": "code",
   "execution_count": 3,
   "metadata": {
    "collapsed": true
   },
   "outputs": [],
   "source": [
    "import numpy as np"
   ]
  },
  {
   "cell_type": "code",
   "execution_count": 11,
   "outputs": [
    {
     "name": "stdout",
     "output_type": "stream",
     "text": [
      "Базисная матрица:\n",
      "[[0.15 0.2 ]\n",
      " [0.2  0.1 ]] \n",
      "\n",
      "Обратная матрица:\n",
      "[[ 8. -6.]\n",
      " [-4.  8.]] \n",
      "\n",
      "y = Cb * D^-1:\n",
      "[3.6 4.8] \n",
      "\n",
      "Значение при умножении A0 и y\n",
      "408.0\n"
     ]
    }
   ],
   "source": [
    "def TheoremeOne():\n",
    "\n",
    "    A = np.array([[0.15, 0.2],\n",
    "                  [0.2, 0.1]])\n",
    "\n",
    "    print(\"Базисная матрица:\")\n",
    "    print(A, \"\\n\")\n",
    "\n",
    "    AT = np.array([[0.2, 0.15],\n",
    "                  [0.1, 0.2]])\n",
    "\n",
    "    print(\"Обратная матрица D^-1:\")\n",
    "    DminOne = np.linalg.inv(AT)\n",
    "    print(DminOne, '\\n')\n",
    "\n",
    "    print(\"y = Cb * D^-1:\")\n",
    "    Cb = np.array([1.2, 1.5])\n",
    "    y = np.dot(Cb, DminOne)\n",
    "    print(y, '\\n')\n",
    "\n",
    "    print(\"Значение при умножении A0 и y\")\n",
    "    A0 = np.array([60, 40])\n",
    "    res = np.dot(y, A0)\n",
    "    print(res)\n",
    "\n",
    "TheoremeOne()"
   ],
   "metadata": {
    "collapsed": false
   }
  },
  {
   "cell_type": "markdown",
   "source": [
    "# Вторая теорема\n",
    "\n",
    "система уравнений:\n",
    "1y1 + 5y2 + 3y3 = 3\n",
    "0.5y1 + 3y2 + 6y3 = 6\n",
    "4y1 + 0y2 + 3y3 = 12\n",
    "\n",
    "система уравнений:\n",
    "1y1 + 0.5y2 + 0y3 + 0.8y4 = 20\n",
    "1y1 + 1y2 + 1y3 + 1.5y4 = 30\n",
    "\n",
    "система уравнений:\n",
    "0.15y1 + 0.2y2 = 60\n",
    "0.2y1 + 0.1y2  = 40"
   ],
   "metadata": {
    "collapsed": false
   }
  },
  {
   "cell_type": "code",
   "execution_count": 22,
   "outputs": [
    {
     "name": "stdout",
     "output_type": "stream",
     "text": [
      "[3.6 4.8]\n",
      "408.0\n"
     ]
    }
   ],
   "source": [
    "RatioY = np.array([[0.15, 0.2],\n",
    "                   [0.2, 0.1]])\n",
    "\n",
    "Output = np.array([1.5, 1.2])\n",
    "\n",
    "TmpRes = np.linalg.solve(RatioY, Output)\n",
    "print(TmpRes)\n",
    "\n",
    "A0 = [60, 40]\n",
    "\n",
    "Res = np.dot(A0, TmpRes)\n",
    "print(Res)"
   ],
   "metadata": {
    "collapsed": false
   }
  },
  {
   "cell_type": "markdown",
   "source": [
    "# Третья теорема"
   ],
   "metadata": {
    "collapsed": false
   }
  },
  {
   "cell_type": "code",
   "execution_count": 23,
   "outputs": [
    {
     "name": "stdout",
     "output_type": "stream",
     "text": [
      "Максимум в стобце 1 = 10.0\n",
      "Минимум в стобце 1 = 7.5\n",
      "ограничения в столбце 1 = (52.5;70.0)\n",
      "Максимум в стобце 2 = 10.0\n",
      "Минимум в стобце 2 = 5.0\n",
      "ограничения в столбце 2 = (35.0;50.0)\n",
      "Влияние 1 ресурса составляет 72.0\n",
      "Влияние 2 ресурса составляет 6.0\n",
      "Совместное влияние ресурсов составляет 78.0\n",
      "Оптимальное значение функции 156.0\n"
     ]
    }
   ],
   "source": [
    "D = [[-4, 8],\n",
    "     [8, -6]]\n",
    "\n",
    "# A = [3400, 1200, 3000]\n",
    "\n",
    "A = [40, 60]\n",
    "\n",
    "y = [ 7.2, 0.6]\n",
    "v=[]\n",
    "for i in range(len(D)):\n",
    "    j = []\n",
    "    jj = []\n",
    "    u = []\n",
    "    uu=[]\n",
    "    for k in range(len(D[i])):\n",
    "        if D[i][k] > 0:\n",
    "            j.append(D[i][k])\n",
    "            jj.append(k)\n",
    "        elif D[i][k] < 0:\n",
    "            u.append(D[i][k])\n",
    "            uu.append(k)\n",
    "            ma=0;\n",
    "    if len(u) > 1:\n",
    "        f=[]\n",
    "        for g in range(len(u)):\n",
    "            f.append((A[uu[g]]/u[g])*(-1))\n",
    "            ma=max(f)\n",
    "    elif len(u) == 1:\n",
    "        ma=(A[uu[0]]/u[0])*(-1)\n",
    "    else:\n",
    "        ma=float(\"inf\")\n",
    "    if len(j) > 1:\n",
    "        f=[]\n",
    "        for g in range(len(j)):\n",
    "            f.append((A[jj[g]]/j[g]))\n",
    "            mi=max(f)\n",
    "    else:\n",
    "        mi=(A[jj[0]]/j[0])\n",
    "    v.append(ma)\n",
    "    print(\"Максимум в стобце \"+str(i+1)+\" = \"+str(ma))\n",
    "    print(\"Минимум в стобце \"+str(i+1)+\" = \"+str(mi))\n",
    "    le=A[len(A)-i-1]-mi\n",
    "    if(ma==float(\"inf\")):\n",
    "        ri=float(\"inf\")\n",
    "    else:\n",
    "        ri = A[len(A)-i-1] + ma\n",
    "    print(\"ограничения в столбце \"+str(i+1)+\" = (\"+str(le)+\";\"+str(ri)+\")\")\n",
    "\n",
    "vliyan=0\n",
    "iter=0\n",
    "for z in range(len(v)):\n",
    "    print(\"Влияние \"+str(z+1)+\" ресурса составляет \"+str(v[len(v)-z-1]*y[z]))\n",
    "    vliyan+=(v[len(v)-z-1]*y[z])\n",
    "    iter+=1\n",
    "print(\"Совместное влияние ресурсов составляет \"+str(vliyan))\n",
    "opt=0\n",
    "for i in range(iter):\n",
    "    opt+=vliyan\n",
    "print(\"Оптимальное значение функции \" + str(opt))\n",
    "\n"
   ],
   "metadata": {
    "collapsed": false
   }
  },
  {
   "cell_type": "code",
   "execution_count": null,
   "outputs": [],
   "source": [],
   "metadata": {
    "collapsed": false
   }
  }
 ],
 "metadata": {
  "kernelspec": {
   "display_name": "Python 3",
   "language": "python",
   "name": "python3"
  },
  "language_info": {
   "codemirror_mode": {
    "name": "ipython",
    "version": 2
   },
   "file_extension": ".py",
   "mimetype": "text/x-python",
   "name": "python",
   "nbconvert_exporter": "python",
   "pygments_lexer": "ipython2",
   "version": "2.7.6"
  }
 },
 "nbformat": 4,
 "nbformat_minor": 0
}
