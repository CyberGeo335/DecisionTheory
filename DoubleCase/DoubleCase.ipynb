{
 "cells": [
  {
   "cell_type": "markdown",
   "source": [
    "# Двойственная Задача\n",
    "## Вариант № 10"
   ],
   "metadata": {
    "collapsed": false
   }
  },
  {
   "cell_type": "markdown",
   "source": [
    "1x1 + 1x2 <= 16\n",
    "0.5x1 + 1x2 <= 12\n",
    "0x1 + 1x2 <= 12\n",
    "0.8x1 + 1.5x2 <= 16\n",
    "\n",
    "Так как базисные переменные x1, x4, x5, x2 то матрица:\n",
    "a1 = 1 0.5 0 0.8\n",
    "a4 = 0 1 0 0\n",
    "a5 = 0 0 1 0\n",
    "a2 = 1 1 1 1.5"
   ],
   "metadata": {
    "collapsed": false
   }
  },
  {
   "cell_type": "markdown",
   "source": [
    "# Импорт либ"
   ],
   "metadata": {
    "collapsed": false
   }
  },
  {
   "cell_type": "code",
   "execution_count": 95,
   "outputs": [],
   "source": [
    "import numpy as np"
   ],
   "metadata": {
    "collapsed": false
   }
  },
  {
   "cell_type": "markdown",
   "source": [
    "# Первая теорема"
   ],
   "metadata": {
    "collapsed": false
   }
  },
  {
   "cell_type": "code",
   "execution_count": 96,
   "metadata": {
    "collapsed": true
   },
   "outputs": [
    {
     "name": "stdout",
     "output_type": "stream",
     "text": [
      "Базисная матрица:\n",
      "[[1.  0.  0.  1. ]\n",
      " [0.5 1.  0.  1. ]\n",
      " [0.  0.  1.  1. ]\n",
      " [0.8 0.  0.  1.5]] \n",
      "\n",
      "Обратная матрица:\n",
      "[[ 2.14285714  0.          0.         -1.42857143]\n",
      " [ 0.07142857  1.          0.         -0.71428571]\n",
      " [ 1.14285714  0.          1.         -1.42857143]\n",
      " [-1.14285714  0.          0.          1.42857143]] \n",
      "\n",
      "y = Cb * D^-1:\n",
      "[ 8.57142857  0.          0.         14.28571429] \n",
      "\n",
      "Значение при умножении A0 и y\n",
      "365.7142857142857\n"
     ]
    }
   ],
   "source": [
    "def TheoremeOne():\n",
    "\n",
    "    A = np.array([[1, 0, 0, 1],\n",
    "                  [0.5, 1, 0, 1],\n",
    "                  [0,   0, 1,  1],\n",
    "                  [0.8, 0, 0,  1.5]])\n",
    "\n",
    "    print(\"Базисная матрица:\")\n",
    "    print(A, \"\\n\")\n",
    "\n",
    "\n",
    "\n",
    "    print(\"Обратная матрица:\")\n",
    "    DminOne = np.linalg.inv(A)\n",
    "    print(DminOne, '\\n')\n",
    "\n",
    "    print(\"y = Cb * D^-1:\")\n",
    "    Cb = np.array([20, 0, 0, 30])\n",
    "    y = np.dot(Cb, DminOne)\n",
    "    print(y, '\\n')\n",
    "\n",
    "    print(\"Значение при умножении A0 и y\")\n",
    "    A0 = np.array([16, 12, 12, 16])\n",
    "    res = np.dot(y, A0)\n",
    "    print(res)\n",
    "\n",
    "TheoremeOne()"
   ]
  },
  {
   "cell_type": "markdown",
   "source": [
    "# Вторая теорема\n",
    "\n",
    "система уравнений:\n",
    "1y1 + 5y2 + 3y3 = 3\n",
    "0.5y1 + 3y2 + 6y3 = 6\n",
    "4y1 + 0y2 + 3y3 = 12\n",
    "\n",
    "система уравнений:\n",
    "1y1 + 0.5y2 + 0y3 + 0.8y4 = 20\n",
    "1y1 + 1y2 + 1y3 + 1.5y4 = 30"
   ],
   "metadata": {
    "collapsed": false
   }
  },
  {
   "cell_type": "code",
   "execution_count": 97,
   "outputs": [
    {
     "name": "stdout",
     "output_type": "stream",
     "text": [
      "(4, 4)\n",
      "(4,)\n"
     ]
    },
    {
     "ename": "LinAlgError",
     "evalue": "Singular matrix",
     "output_type": "error",
     "traceback": [
      "\u001B[1;31m---------------------------------------------------------------------------\u001B[0m",
      "\u001B[1;31mLinAlgError\u001B[0m                               Traceback (most recent call last)",
      "Cell \u001B[1;32mIn [97], line 10\u001B[0m\n\u001B[0;32m      7\u001B[0m \u001B[38;5;28mprint\u001B[39m(RatioY\u001B[38;5;241m.\u001B[39mshape)\n\u001B[0;32m      8\u001B[0m \u001B[38;5;28mprint\u001B[39m(Output\u001B[38;5;241m.\u001B[39mshape)\n\u001B[1;32m---> 10\u001B[0m TmpRes \u001B[38;5;241m=\u001B[39m \u001B[43mnp\u001B[49m\u001B[38;5;241;43m.\u001B[39;49m\u001B[43mlinalg\u001B[49m\u001B[38;5;241;43m.\u001B[39;49m\u001B[43msolve\u001B[49m\u001B[43m(\u001B[49m\u001B[43mRatioY\u001B[49m\u001B[43m,\u001B[49m\u001B[43m \u001B[49m\u001B[43mOutput\u001B[49m\u001B[43m)\u001B[49m\n\u001B[0;32m     11\u001B[0m \u001B[38;5;28mprint\u001B[39m(TmpRes)\n\u001B[0;32m     13\u001B[0m \u001B[38;5;66;03m#A0 = [3400, 1200, 3000]\u001B[39;00m\n\u001B[0;32m     14\u001B[0m \n\u001B[0;32m     15\u001B[0m \u001B[38;5;66;03m#Res = np.dot(A0, TmpRes)\u001B[39;00m\n\u001B[0;32m     16\u001B[0m \u001B[38;5;66;03m#print(Res)\u001B[39;00m\n",
      "File \u001B[1;32m<__array_function__ internals>:180\u001B[0m, in \u001B[0;36msolve\u001B[1;34m(*args, **kwargs)\u001B[0m\n",
      "File \u001B[1;32mD:\\MORE_AND_IDE\\AllForPython\\Language\\lib\\site-packages\\numpy\\linalg\\linalg.py:400\u001B[0m, in \u001B[0;36msolve\u001B[1;34m(a, b)\u001B[0m\n\u001B[0;32m    398\u001B[0m signature \u001B[38;5;241m=\u001B[39m \u001B[38;5;124m'\u001B[39m\u001B[38;5;124mDD->D\u001B[39m\u001B[38;5;124m'\u001B[39m \u001B[38;5;28;01mif\u001B[39;00m isComplexType(t) \u001B[38;5;28;01melse\u001B[39;00m \u001B[38;5;124m'\u001B[39m\u001B[38;5;124mdd->d\u001B[39m\u001B[38;5;124m'\u001B[39m\n\u001B[0;32m    399\u001B[0m extobj \u001B[38;5;241m=\u001B[39m get_linalg_error_extobj(_raise_linalgerror_singular)\n\u001B[1;32m--> 400\u001B[0m r \u001B[38;5;241m=\u001B[39m \u001B[43mgufunc\u001B[49m\u001B[43m(\u001B[49m\u001B[43ma\u001B[49m\u001B[43m,\u001B[49m\u001B[43m \u001B[49m\u001B[43mb\u001B[49m\u001B[43m,\u001B[49m\u001B[43m \u001B[49m\u001B[43msignature\u001B[49m\u001B[38;5;241;43m=\u001B[39;49m\u001B[43msignature\u001B[49m\u001B[43m,\u001B[49m\u001B[43m \u001B[49m\u001B[43mextobj\u001B[49m\u001B[38;5;241;43m=\u001B[39;49m\u001B[43mextobj\u001B[49m\u001B[43m)\u001B[49m\n\u001B[0;32m    402\u001B[0m \u001B[38;5;28;01mreturn\u001B[39;00m wrap(r\u001B[38;5;241m.\u001B[39mastype(result_t, copy\u001B[38;5;241m=\u001B[39m\u001B[38;5;28;01mFalse\u001B[39;00m))\n",
      "File \u001B[1;32mD:\\MORE_AND_IDE\\AllForPython\\Language\\lib\\site-packages\\numpy\\linalg\\linalg.py:89\u001B[0m, in \u001B[0;36m_raise_linalgerror_singular\u001B[1;34m(err, flag)\u001B[0m\n\u001B[0;32m     88\u001B[0m \u001B[38;5;28;01mdef\u001B[39;00m \u001B[38;5;21m_raise_linalgerror_singular\u001B[39m(err, flag):\n\u001B[1;32m---> 89\u001B[0m     \u001B[38;5;28;01mraise\u001B[39;00m LinAlgError(\u001B[38;5;124m\"\u001B[39m\u001B[38;5;124mSingular matrix\u001B[39m\u001B[38;5;124m\"\u001B[39m)\n",
      "\u001B[1;31mLinAlgError\u001B[0m: Singular matrix"
     ]
    }
   ],
   "source": [
    "RatioY = np.array([[1, 0.5, 0, 0.8],\n",
    "                   [1, 1, 1, 1.5],\n",
    "                   [1, 1, 1, 1],\n",
    "                   [1, 1, 1, 1]])\n",
    "\n",
    "Output = np.array([16, 12, 12, 16])\n",
    "print(RatioY.shape)\n",
    "print(Output.shape)\n",
    "\n",
    "TmpRes = np.linalg.solve(RatioY, Output)\n",
    "print(TmpRes)\n",
    "\n",
    "#A0 = [3400, 1200, 3000]\n",
    "\n",
    "#Res = np.dot(A0, TmpRes)\n",
    "#print(Res)"
   ],
   "metadata": {
    "collapsed": false
   }
  },
  {
   "cell_type": "markdown",
   "source": [
    "# Третья теорема"
   ],
   "metadata": {
    "collapsed": false
   }
  },
  {
   "cell_type": "code",
   "execution_count": 98,
   "outputs": [
    {
     "name": "stdout",
     "output_type": "stream",
     "text": [
      "Максимум в стобце 1 = 14.000000035\n",
      "Минимум в стобце 1 = 168.00000336000008\n",
      "ограничения в столбце 1 = (-152.00000336000008;30.000000035)\n",
      "Максимум в стобце 2 = inf\n",
      "Минимум в стобце 2 = 12.0\n",
      "ограничения в столбце 2 = (0.0;inf)\n",
      "Максимум в стобце 3 = inf\n",
      "Минимум в стобце 3 = 12.0\n",
      "ограничения в столбце 3 = (0.0;inf)\n",
      "Максимум в стобце 4 = 16.800000100800002\n",
      "Минимум в стобце 4 = 11.1999999888\n",
      "ограничения в столбце 4 = (4.8000000112;32.800000100800005)\n",
      "Влияние 1 ресурса составляет 144.00000084\n",
      "Влияние 2 ресурса составляет nan\n",
      "Влияние 3 ресурса составляет nan\n",
      "Влияние 4 ресурса составляет 200.00000056\n",
      "Совместное влияние ресурсов составляет nan\n",
      "Оптимальное значение функции nan\n"
     ]
    }
   ],
   "source": [
    "D = [[2.14285714, 0.07142857, 1.14285714, -1.14285714],\n",
    "     [0, 1, 0, 0],\n",
    "     [0, 0, 1, 0],\n",
    "     [-1.42857143, -0.71428571, -1.42857143, 1.42857143]]\n",
    "\n",
    "# A = [3400, 1200, 3000]\n",
    "\n",
    "A = [16, 12, 12, 16]\n",
    "\n",
    "y = [ 8.57142857, 0, 0, 14.28571429]\n",
    "v=[]\n",
    "for i in range(len(D)):\n",
    "    j = []\n",
    "    jj = []\n",
    "    u = []\n",
    "    uu=[]\n",
    "    for k in range(len(D[i])):\n",
    "        if D[i][k] > 0:\n",
    "            j.append(D[i][k])\n",
    "            jj.append(k)\n",
    "        elif D[i][k] < 0:\n",
    "            u.append(D[i][k])\n",
    "            uu.append(k)\n",
    "            ma=0;\n",
    "    if len(u) > 1:\n",
    "        f=[]\n",
    "        for g in range(len(u)):\n",
    "            f.append((A[uu[g]]/u[g])*(-1))\n",
    "            ma=max(f)\n",
    "    elif len(u) == 1:\n",
    "        ma=(A[uu[0]]/u[0])*(-1)\n",
    "    else:\n",
    "        ma=float(\"inf\")\n",
    "    if len(j) > 1:\n",
    "        f=[]\n",
    "        for g in range(len(j)):\n",
    "            f.append((A[jj[g]]/j[g]))\n",
    "            mi=max(f)\n",
    "    else:\n",
    "        mi=(A[jj[0]]/j[0])\n",
    "    v.append(ma)\n",
    "    print(\"Максимум в стобце \"+str(i+1)+\" = \"+str(ma))\n",
    "    print(\"Минимум в стобце \"+str(i+1)+\" = \"+str(mi))\n",
    "    le=A[len(A)-i-1]-mi\n",
    "    if(ma==float(\"inf\")):\n",
    "        ri=float(\"inf\")\n",
    "    else:\n",
    "        ri = A[len(A)-i-1] + ma\n",
    "    print(\"ограничения в столбце \"+str(i+1)+\" = (\"+str(le)+\";\"+str(ri)+\")\")\n",
    "\n",
    "vliyan=0\n",
    "iter=0\n",
    "for z in range(len(v)):\n",
    "    print(\"Влияние \"+str(z+1)+\" ресурса составляет \"+str(v[len(v)-z-1]*y[z]))\n",
    "    vliyan+=(v[len(v)-z-1]*y[z])\n",
    "    iter+=1\n",
    "print(\"Совместное влияние ресурсов составляет \"+str(vliyan))\n",
    "opt=0\n",
    "for i in range(iter):\n",
    "    opt+=vliyan\n",
    "print(\"Оптимальное значение функции \" + str(opt))\n",
    "\n"
   ],
   "metadata": {
    "collapsed": false
   }
  },
  {
   "cell_type": "code",
   "execution_count": null,
   "outputs": [],
   "source": [],
   "metadata": {
    "collapsed": false
   }
  }
 ],
 "metadata": {
  "kernelspec": {
   "display_name": "Python 3",
   "language": "python",
   "name": "python3"
  },
  "language_info": {
   "codemirror_mode": {
    "name": "ipython",
    "version": 2
   },
   "file_extension": ".py",
   "mimetype": "text/x-python",
   "name": "python",
   "nbconvert_exporter": "python",
   "pygments_lexer": "ipython2",
   "version": "2.7.6"
  }
 },
 "nbformat": 4,
 "nbformat_minor": 0
}
